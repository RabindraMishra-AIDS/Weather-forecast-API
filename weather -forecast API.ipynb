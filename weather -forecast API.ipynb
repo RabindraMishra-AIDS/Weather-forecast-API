{
 "cells": [
  {
   "cell_type": "code",
   "execution_count": 3,
   "id": "d20119f8",
   "metadata": {},
   "outputs": [],
   "source": [
    "import os                                         #rabindra Mishra AI&DS 23\n",
    "import requests                                   #store API key in os environment\n",
    "from datetime import datetime                     #os is used to read api key from os environment"
   ]
  },
  {
   "cell_type": "code",
   "execution_count": 14,
   "id": "a3529a50",
   "metadata": {},
   "outputs": [
    {
     "name": "stdout",
     "output_type": "stream",
     "text": [
      "Please Enter a valid City Name: kolkata\n"
     ]
    }
   ],
   "source": [
    "rabindra_API=os.environ['rabindra']                  #taking APi key ie.reading\n",
    "location=input(\"Please Enter a valid City Name: \")"
   ]
  },
  {
   "cell_type": "code",
   "execution_count": 15,
   "id": "de2f9c84",
   "metadata": {},
   "outputs": [],
   "source": [
    "rabindra_api_link=\"https://api.openweathermap.org/data/2.5/weather?q=\"+location+\"&appid=\"+rabindra_API #use own unique API Id\n",
    "api_link=requests.get(rabindra_api_link)\n",
    "rabindra_data=api_link.json()"
   ]
  },
  {
   "cell_type": "code",
   "execution_count": 16,
   "id": "5f461c3d",
   "metadata": {},
   "outputs": [
    {
     "name": "stdout",
     "output_type": "stream",
     "text": [
      "{'coord': {'lon': 88.3697, 'lat': 22.5697}, 'weather': [{'id': 721, 'main': 'Haze', 'description': 'haze', 'icon': '50n'}], 'base': 'stations', 'main': {'temp': 305.12, 'feels_like': 310.77, 'temp_min': 305.12, 'temp_max': 305.12, 'pressure': 1006, 'humidity': 62}, 'visibility': 3200, 'wind': {'speed': 5.14, 'deg': 140}, 'clouds': {'all': 40}, 'dt': 1682515211, 'sys': {'type': 1, 'id': 9114, 'country': 'IN', 'sunrise': 1682465876, 'sunset': 1682512236}, 'timezone': 19800, 'id': 1275004, 'name': 'Kolkata', 'cod': 200}\n"
     ]
    }
   ],
   "source": [
    "print(rabindra_data)"
   ]
  },
  {
   "cell_type": "code",
   "execution_count": 17,
   "id": "8df179c8",
   "metadata": {},
   "outputs": [
    {
     "name": "stdout",
     "output_type": "stream",
     "text": [
      "------------------------------------------------\n",
      "Weather Stats for- KOLKATA||26 Apr 2023 | 06:53:12 PM\n",
      "------------------------------------------------\n",
      "current weather : haze\n",
      "current pressure:  1006\n",
      "Current Wind speed: 5.14 KMPH\n",
      "Current Temperature is:31.97deg C\n"
     ]
    }
   ],
   "source": [
    "if rabindra_data['cod']=='404':\n",
    "    print(\" Invalid City:{},please check city name\".format(location)) #Rabindra Mishra\n",
    "else:\n",
    "    temp_city=((rabindra_data['main']['temp'])-273.15)\n",
    "    weather=rabindra_data['weather'][0]['description']\n",
    "    humidity=rabindra_data['main']['pressure']\n",
    "    wind_speed=rabindra_data['wind']['speed']\n",
    "    date_time=datetime.now().strftime(\"%d %b %Y | %I:%M:%S %p\")\n",
    "    print(\"------------------------------------------------\")\n",
    "\n",
    "    print(\"Weather Stats for- {}||{}\".format(location.upper(),date_time))\n",
    "    print(\"------------------------------------------------\")\n",
    "    print(\"current weather :\",weather)\n",
    "    print(\"current pressure: \",humidity)\n",
    "    print(\"Current Wind speed:\",wind_speed,'KMPH')\n",
    "    print(\"Current Temperature is:{:.2f}deg C\".format(temp_city))"
   ]
  },
  {
   "cell_type": "code",
   "execution_count": null,
   "id": "f3edee9b",
   "metadata": {},
   "outputs": [],
   "source": []
  }
 ],
 "metadata": {
  "kernelspec": {
   "display_name": "Python 3 (ipykernel)",
   "language": "python",
   "name": "python3"
  },
  "language_info": {
   "codemirror_mode": {
    "name": "ipython",
    "version": 3
   },
   "file_extension": ".py",
   "mimetype": "text/x-python",
   "name": "python",
   "nbconvert_exporter": "python",
   "pygments_lexer": "ipython3",
   "version": "3.9.13"
  }
 },
 "nbformat": 4,
 "nbformat_minor": 5
}
