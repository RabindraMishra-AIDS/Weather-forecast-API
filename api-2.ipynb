{
 "cells": [
  {
   "cell_type": "code",
   "execution_count": 1,
   "id": "b275f223",
   "metadata": {},
   "outputs": [],
   "source": [
    "import os\n",
    "import requests\n",
    "from datetime import datetime"
   ]
  },
  {
   "cell_type": "code",
   "execution_count": 2,
   "id": "ab294807",
   "metadata": {},
   "outputs": [
    {
     "name": "stdout",
     "output_type": "stream",
     "text": [
      "Please Enter a valid City Name: chennai\n"
     ]
    }
   ],
   "source": [
    "rabindra_API=os.environ['rabindra']\n",
    "location=input(\"Please Enter a valid City Name: \")"
   ]
  },
  {
   "cell_type": "code",
   "execution_count": 3,
   "id": "3f574be3",
   "metadata": {},
   "outputs": [],
   "source": [
    "rabindra_api_link=\"https://api.openweathermap.org/data/2.5/weather?q=\"+location+\"&appid=\"+rabindra_API\n",
    "api_link=requests.get(rabindra_api_link)\n",
    "rabindra_data=api_link.json()"
   ]
  },
  {
   "cell_type": "code",
   "execution_count": 4,
   "id": "6256dd16",
   "metadata": {},
   "outputs": [
    {
     "name": "stdout",
     "output_type": "stream",
     "text": [
      "{'coord': {'lon': 80.2785, 'lat': 13.0878}, 'weather': [{'id': 801, 'main': 'Clouds', 'description': 'few clouds', 'icon': '02n'}], 'base': 'stations', 'main': {'temp': 304.24, 'feels_like': 311.24, 'temp_min': 304.14, 'temp_max': 304.24, 'pressure': 1010, 'humidity': 78}, 'visibility': 6000, 'wind': {'speed': 5.66, 'deg': 90}, 'clouds': {'all': 20}, 'dt': 1682515992, 'sys': {'type': 2, 'id': 2012809, 'country': 'IN', 'sunrise': 1682468428, 'sunset': 1682513567}, 'timezone': 19800, 'id': 1264527, 'name': 'Chennai', 'cod': 200}\n"
     ]
    }
   ],
   "source": [
    "print(rabindra_data)"
   ]
  },
  {
   "cell_type": "code",
   "execution_count": 5,
   "id": "12fc6023",
   "metadata": {},
   "outputs": [
    {
     "name": "stdout",
     "output_type": "stream",
     "text": [
      "---------------------------\n",
      "Weather stats for-CHENNAI\n",
      "---------------------------\n",
      "Maximum Temperature{in C}: 31.090000000000032\n",
      "Humidity: 78\n",
      "visibility: 6000\n",
      "country: IN\n"
     ]
    }
   ],
   "source": [
    "if rabindra_data['cod']==404:\n",
    "    print(\"Inavlid city-{}, Enter valid name\".format(loocation))\n",
    "else:\n",
    "    temp_max=rabindra_data['main']['temp_max']\n",
    "    humidity=rabindra_data['main']['humidity']\n",
    "    country=rabindra_data['sys']['country']\n",
    "    visibility=rabindra_data['visibility']\n",
    "    print(\"---------------------------\")\n",
    "    print(\"Weather stats for-{}\".format(location.upper()))\n",
    "    print(\"---------------------------\")\n",
    "    print(\"Maximum Temperature{in C}:\",temp_max-273.15)\n",
    "    print(\"Humidity:\",humidity)\n",
    "    print(\"visibility:\",visibility)\n",
    "    print(\"country:\",country)\n",
    "    "
   ]
  },
  {
   "cell_type": "code",
   "execution_count": null,
   "id": "bef02b47",
   "metadata": {},
   "outputs": [],
   "source": []
  }
 ],
 "metadata": {
  "kernelspec": {
   "display_name": "Python 3 (ipykernel)",
   "language": "python",
   "name": "python3"
  },
  "language_info": {
   "codemirror_mode": {
    "name": "ipython",
    "version": 3
   },
   "file_extension": ".py",
   "mimetype": "text/x-python",
   "name": "python",
   "nbconvert_exporter": "python",
   "pygments_lexer": "ipython3",
   "version": "3.9.13"
  }
 },
 "nbformat": 4,
 "nbformat_minor": 5
}
